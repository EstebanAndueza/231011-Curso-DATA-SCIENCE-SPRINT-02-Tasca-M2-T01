{
 "cells": [
  {
   "cell_type": "markdown",
   "id": "ecb58c07",
   "metadata": {},
   "source": [
    "# TASCA M2 T01"
   ]
  },
  {
   "cell_type": "markdown",
   "id": "0ec68368",
   "metadata": {},
   "source": [
    "# Ejercicio 1\n",
    "\n",
    "Crea una lista que agrupe los meses del año en trimestres (1T: enero, febrero y marzo; 2T: abril, mayo, junio...), es decir, una lista con 4 listas dentro\n"
   ]
  },
  {
   "cell_type": "code",
   "execution_count": 243,
   "id": "aec4ad37",
   "metadata": {},
   "outputs": [],
   "source": [
    "año = [\n",
    "    ['enero', 'febrero', 'marzo'], \n",
    "    ['abril', 'mayo', 'junio'], \n",
    "    ['julio', 'agosto', 'septiembre'], \n",
    "    ['octubre', 'noviembre', 'dicciembre']\n",
    "]\n",
    "# En este caso la lista año es una lista anidada, que contiene 4 listas"
   ]
  },
  {
   "cell_type": "code",
   "execution_count": 244,
   "id": "cd38b4fe",
   "metadata": {},
   "outputs": [
    {
     "data": {
      "text/plain": [
       "list"
      ]
     },
     "execution_count": 244,
     "metadata": {},
     "output_type": "execute_result"
    }
   ],
   "source": [
    "type (año)"
   ]
  },
  {
   "cell_type": "code",
   "execution_count": 245,
   "id": "58beaef4",
   "metadata": {},
   "outputs": [
    {
     "name": "stdout",
     "output_type": "stream",
     "text": [
      "[['enero', 'febrero', 'marzo'], ['abril', 'mayo', 'junio'], ['julio', 'agosto', 'septiembre'], ['octubre', 'noviembre', 'dicciembre']]\n"
     ]
    }
   ],
   "source": [
    "print (año)"
   ]
  },
  {
   "cell_type": "code",
   "execution_count": 246,
   "id": "1954c8fd",
   "metadata": {},
   "outputs": [],
   "source": [
    "# Para hacerlo como pide el enunciado, creo una lista diferente para cada trimestre.\n",
    "T1 = ['enero', 'febrero', 'marzo']\n",
    "T2 = ['abril', 'mayo', 'junio']\n",
    "T3 = ['julio', 'agosto', 'septiembre']\n",
    "T4 = ['octubre', 'noviembre', 'dicciembre']"
   ]
  },
  {
   "cell_type": "code",
   "execution_count": 247,
   "id": "4f1358bd",
   "metadata": {},
   "outputs": [
    {
     "name": "stdout",
     "output_type": "stream",
     "text": [
      "[['enero', 'febrero', 'marzo', 'abril', 'mayo', 'junio', 'julio', 'agosto', 'septiembre', 'octubre', 'noviembre', 'dicciembre']]\n"
     ]
    }
   ],
   "source": [
    "Taño0 = [T1 + T2 + T3 + T4]\n",
    "\n",
    "print (Taño0)\n",
    "# Si uno las 4 listas con el signo más +, me da una sola lista de 12 elementos, que no es lo que busco."
   ]
  },
  {
   "cell_type": "code",
   "execution_count": 248,
   "id": "436ecca8",
   "metadata": {},
   "outputs": [
    {
     "name": "stdout",
     "output_type": "stream",
     "text": [
      "[['enero', 'febrero', 'marzo'], ['abril', 'mayo', 'junio'], ['julio', 'agosto', 'septiembre'], ['octubre', 'noviembre', 'dicciembre']]\n"
     ]
    }
   ],
   "source": [
    "Taño1 = [T1, T2, T3, T4]\n",
    "\n",
    "print (Taño1)\n",
    "# Si uno las listas por medio de comas, me da la lista anidada que busco, conteniendo las 4 listas."
   ]
  },
  {
   "cell_type": "markdown",
   "id": "958ec021",
   "metadata": {},
   "source": [
    "# Ejercicio 2\n",
    "\n",
    "Crea un código que te permita acceder a: \n",
    "- El segundo mes del primer trimestre. \n",
    "- Los meses del primer trimestre. \n",
    "- Septiembre y octubre. "
   ]
  },
  {
   "cell_type": "code",
   "execution_count": 249,
   "id": "8d080b8a",
   "metadata": {},
   "outputs": [
    {
     "name": "stdout",
     "output_type": "stream",
     "text": [
      "agosto\n"
     ]
    }
   ],
   "source": [
    "# Acceder al segundo mes del primer trimestre.\n",
    "A = Taño1 [2][1]\n",
    "print (A)"
   ]
  },
  {
   "cell_type": "code",
   "execution_count": 250,
   "id": "7b22dfaf",
   "metadata": {},
   "outputs": [
    {
     "name": "stdout",
     "output_type": "stream",
     "text": [
      "['enero', 'febrero', 'marzo']\n",
      "['enero', 'febrero', 'marzo']\n"
     ]
    }
   ],
   "source": [
    "# Acceder a los meses del primer trimestre. Hay dos formas:\n",
    "\n",
    "B = Taño1 [0][0:3]\n",
    "print (B)\n",
    "\n",
    "C = Taño1 [0]\n",
    "print (C)"
   ]
  },
  {
   "cell_type": "code",
   "execution_count": 251,
   "id": "f153ae10",
   "metadata": {},
   "outputs": [
    {
     "name": "stdout",
     "output_type": "stream",
     "text": [
      "('septiembre', 'octubre')\n"
     ]
    }
   ],
   "source": [
    "# Acceder a septiembre y octubre.\n",
    "# Puedo acceder por trimestres, pero me temo que no es lo que pretende el ejercicio. \n",
    "# Creo que pretende que se haga mediante bucles\n",
    "D = T3 [2], T4[0]\n",
    "print (D)"
   ]
  },
  {
   "cell_type": "code",
   "execution_count": 252,
   "id": "0ebc67d8",
   "metadata": {
    "scrolled": true
   },
   "outputs": [
    {
     "name": "stdout",
     "output_type": "stream",
     "text": [
      "('septiembre', 3)\n"
     ]
    }
   ],
   "source": [
    "# Acceder a septiembre y octubre. \n",
    "F = Taño1 [2][2], [3][0]\n",
    "print (F)  \n",
    "# Esto no funciona, no sé por qué, ni tampoco entiendo el resultado que me ofrece"
   ]
  },
  {
   "cell_type": "code",
   "execution_count": 253,
   "id": "2576d6cc",
   "metadata": {},
   "outputs": [
    {
     "name": "stdout",
     "output_type": "stream",
     "text": [
      "['septiembre', 'octubre']\n"
     ]
    }
   ],
   "source": [
    "# Acceder a septiembre y octubre mediante bucles:\n",
    "\n",
    "Dosmeses = []\n",
    "\n",
    "for x in Taño1:\n",
    "  if \"septiembre\" in x:\n",
    "    Dosmeses.append(x [2])\n",
    "for y in Taño1:\n",
    "  if \"octubre\" in y:\n",
    "    Dosmeses.append(y [0])\n",
    "\n",
    "print(Dosmeses)"
   ]
  },
  {
   "cell_type": "markdown",
   "id": "1273ed95",
   "metadata": {},
   "source": [
    "# Ejercicio 3\n",
    "\n",
    "Crea una lista con números desordenados y responde a las siguientes preguntas: \n",
    "- ¿Cuántos números hay? \n",
    "- Cuántas veces aparece el número 3. \n",
    "- ¿Cuántas veces aparecen los números 3 y 4? \n",
    "- ¿Cuál es el mayor número? o ¿Cuáles son los 3 números más pequeños? \n",
    "- ¿Cuál es el rango de esa lista? "
   ]
  },
  {
   "cell_type": "code",
   "execution_count": 254,
   "id": "87ff958f",
   "metadata": {},
   "outputs": [
    {
     "data": {
      "text/plain": [
       "list"
      ]
     },
     "execution_count": 254,
     "metadata": {},
     "output_type": "execute_result"
    }
   ],
   "source": [
    "# Crea una lista con números desordenados\n",
    "Num = [6, 10, 13, 1, 20, 3, 11, 7, 4, 3, 0, 25, 6, 13, 9, 15, 32, 12, 26]\n",
    "type (Num)"
   ]
  },
  {
   "cell_type": "code",
   "execution_count": 255,
   "id": "980c2338",
   "metadata": {},
   "outputs": [
    {
     "data": {
      "text/plain": [
       "19"
      ]
     },
     "execution_count": 255,
     "metadata": {},
     "output_type": "execute_result"
    }
   ],
   "source": [
    "# ¿Cuántos números hay?\n",
    "len (Num)"
   ]
  },
  {
   "cell_type": "code",
   "execution_count": 256,
   "id": "10faf22a",
   "metadata": {},
   "outputs": [
    {
     "data": {
      "text/plain": [
       "2"
      ]
     },
     "execution_count": 256,
     "metadata": {},
     "output_type": "execute_result"
    }
   ],
   "source": [
    "# ¿Cuántas veces aparece el número 3?\n",
    "Num.count (3)"
   ]
  },
  {
   "cell_type": "code",
   "execution_count": 257,
   "id": "029ba9a0",
   "metadata": {},
   "outputs": [
    {
     "data": {
      "text/plain": [
       "3"
      ]
     },
     "execution_count": 257,
     "metadata": {},
     "output_type": "execute_result"
    }
   ],
   "source": [
    "# ¿Cuántas veces aparecen los números 3 y 4?\n",
    "Num.count (3) + Num.count (4)"
   ]
  },
  {
   "cell_type": "code",
   "execution_count": 258,
   "id": "5cffb6de",
   "metadata": {},
   "outputs": [
    {
     "data": {
      "text/plain": [
       "32"
      ]
     },
     "execution_count": 258,
     "metadata": {},
     "output_type": "execute_result"
    }
   ],
   "source": [
    "# ¿Cuál es el mayor número?\n",
    "max (Num)"
   ]
  },
  {
   "cell_type": "code",
   "execution_count": 259,
   "id": "cd4df99e",
   "metadata": {},
   "outputs": [
    {
     "name": "stdout",
     "output_type": "stream",
     "text": [
      "[0, 1, 3, 3, 4, 6, 6, 7, 9, 10, 11, 12, 13, 13, 15, 20, 25, 26, 32]\n",
      "[0, 1, 3]\n"
     ]
    }
   ],
   "source": [
    "# ¿Cuáles son los 3 números más pequeños?\n",
    "# Primero ordeno la lista de menor a mayar con .sort ()\n",
    "Num.sort()\n",
    "print (Num)\n",
    "\n",
    "# Depués le pido los tres primeros\n",
    "print (Num [0:3])"
   ]
  },
  {
   "cell_type": "markdown",
   "id": "8c4407f7",
   "metadata": {},
   "source": [
    "# Ejercicio 4\n",
    "\n",
    "Crea un diccionario de la siguiente forma y responde a las preguntas: \n",
    "\n",
    "compra = { \"Pomes\" : {\"Qty\": 5, \"€\": 0.42}, \"Peres\" : {\"Qty\": 3, \"€\": 0.66} } \n",
    "- Añade alguna fruta más \n",
    "- ¿Cuánto han costado las peras en total? \n",
    "- ¿Cuántas frutas hemos comprado en total? Usar loops \n",
    "- ¿Cuál es la fruta más cara? Usar loops \n",
    "\n",
    "Objetivos \n",
    "- Creación y acceso a listas en python. \n",
    "- Creación y acceso a tuplas en python. \n",
    "- Uso de los métodos python. \n",
    "- Creación y acceso a sets y diccionarios en python. \n",
    "\n",
    "Duración: 2 días \n",
    "\n",
    "Entrega: \n",
    "\n",
    "Enviar la URL de tu repositorio en donde se encuentre la solución en un notebook con las celdas ejecutadas."
   ]
  },
  {
   "cell_type": "code",
   "execution_count": 294,
   "id": "43de1a82",
   "metadata": {},
   "outputs": [
    {
     "data": {
      "text/plain": [
       "dict"
      ]
     },
     "execution_count": 294,
     "metadata": {},
     "output_type": "execute_result"
    }
   ],
   "source": [
    "# Crear diccionario compra:\n",
    "# En este diccionario cada fruta es una clave en el diccionario, \n",
    "# y el valor asociado a cada clave es otro diccionario que contiene la cantidad (Qty) y el precio (€) de esa fruta.\n",
    "\n",
    "compra = { \n",
    "    \"Pomes\" : {\"Qty\": 5, \"€\": 0.42}, \n",
    "    \"Peres\" : {\"Qty\": 3, \"€\": 0.66} \n",
    "}\n",
    "type (compra)"
   ]
  },
  {
   "cell_type": "code",
   "execution_count": 295,
   "id": "01e4d4ba",
   "metadata": {},
   "outputs": [
    {
     "name": "stdout",
     "output_type": "stream",
     "text": [
      "2\n"
     ]
    }
   ],
   "source": [
    "print (len(compra))"
   ]
  },
  {
   "cell_type": "code",
   "execution_count": 296,
   "id": "828527c1",
   "metadata": {},
   "outputs": [
    {
     "name": "stdout",
     "output_type": "stream",
     "text": [
      "{'Qty': 5, '€': 0.42}\n"
     ]
    }
   ],
   "source": [
    "x = compra [\"Pomes\"]\n",
    "print (x)"
   ]
  },
  {
   "cell_type": "code",
   "execution_count": 297,
   "id": "06283a72",
   "metadata": {},
   "outputs": [
    {
     "name": "stdout",
     "output_type": "stream",
     "text": [
      "{'Qty': 3, '€': 0.66}\n"
     ]
    }
   ],
   "source": [
    "y = compra.get(\"Peres\")\n",
    "print (y)"
   ]
  },
  {
   "cell_type": "code",
   "execution_count": 298,
   "id": "98986225",
   "metadata": {},
   "outputs": [
    {
     "name": "stdout",
     "output_type": "stream",
     "text": [
      "dict_keys(['Pomes', 'Peres'])\n"
     ]
    }
   ],
   "source": [
    "z = compra.keys()\n",
    "print (z)"
   ]
  },
  {
   "cell_type": "markdown",
   "id": "4937f28b",
   "metadata": {},
   "source": [
    "__Añadir una fruta más, (de una en una)__"
   ]
  },
  {
   "cell_type": "code",
   "execution_count": 299,
   "id": "6e11e90c",
   "metadata": {},
   "outputs": [
    {
     "name": "stdout",
     "output_type": "stream",
     "text": [
      "{'Pomes': {'Qty': 5, '€': 0.42}, 'Peres': {'Qty': 3, '€': 0.66}, 'Fresas': {'Qty': 7, '€': 1.05}}\n"
     ]
    }
   ],
   "source": [
    "# Metodo 1.- introduciendo un nuevo par campo/valor mediante corchetes = valor.\n",
    "compra = { \n",
    "    \"Pomes\" : {\"Qty\": 5, \"€\": 0.42}, \n",
    "    \"Peres\" : {\"Qty\": 3, \"€\": 0.66} \n",
    "}\n",
    "\n",
    "compra[\"Fresas\"] = {\"Qty\": 7, \"€\": 1.05}\n",
    "print (compra)"
   ]
  },
  {
   "cell_type": "code",
   "execution_count": 300,
   "id": "51cdcb68",
   "metadata": {},
   "outputs": [
    {
     "name": "stdout",
     "output_type": "stream",
     "text": [
      "{'Pomes': {'Qty': 5, '€': 0.42}, 'Peres': {'Qty': 3, '€': 0.66}, 'Fresas': {'Qty': 7, '€': 1.05}, 'Piñas': {'Qty': 2, '€': 0.6}}\n"
     ]
    }
   ],
   "source": [
    "# Método 2.- Mediante .update ( )\n",
    "compra.update({\"Piñas\" : {'Qty': 2, '€': 0.60}})\n",
    "print (compra)"
   ]
  },
  {
   "cell_type": "markdown",
   "id": "b99879fc",
   "metadata": {},
   "source": [
    "__Añadir más frutas, (varias frutas a la vez)__"
   ]
  },
  {
   "cell_type": "code",
   "execution_count": 301,
   "id": "815d188e",
   "metadata": {},
   "outputs": [
    {
     "name": "stdout",
     "output_type": "stream",
     "text": [
      "{'Pomes': {'Qty': 5, '€': 0.42}, 'Peres': {'Qty': 3, '€': 0.66}, 'Fresas': {'Qty': 7, '€': 1.05}, 'Piñas': {'Qty': 2, '€': 0.6}, 'Melones': {'Qty': 9, '€': 1.0}, 'Sandías': {'Qty': 8, '€': 0.3}, 'Ciruela': {'Qty': 20, '€': 1.6}}\n"
     ]
    }
   ],
   "source": [
    "mas_frutas = {\n",
    "    \"Melones\" : {'Qty': 9, '€': 1.00}, \n",
    "    \"Sandías\" : {'Qty': 8, '€': 0.30}, \n",
    "    \"Ciruela\" : {'Qty': 20, '€': 1.60}\n",
    "}\n",
    "\n",
    "compra.update(mas_frutas)\n",
    "print (compra) "
   ]
  },
  {
   "cell_type": "markdown",
   "id": "cf5a7003",
   "metadata": {},
   "source": [
    "__¿Cuánto han costado las peras en total?__"
   ]
  },
  {
   "cell_type": "code",
   "execution_count": 302,
   "id": "b1babdf1",
   "metadata": {},
   "outputs": [
    {
     "name": "stdout",
     "output_type": "stream",
     "text": [
      "Las peras en total han costado: 1.98 €\n"
     ]
    }
   ],
   "source": [
    "peras = compra[\"Peres\"]\n",
    "\n",
    "costo_total_peras = peras[\"Qty\"] * peras[\"€\"]\n",
    "\n",
    "print(\"Las peras en total han costado:\", costo_total_peras, \"€\")"
   ]
  },
  {
   "cell_type": "markdown",
   "id": "30d0eb15",
   "metadata": {},
   "source": [
    "__¿Cuántas frutas hemos comprado en total? Usar loops__"
   ]
  },
  {
   "cell_type": "code",
   "execution_count": 306,
   "id": "1066df10",
   "metadata": {},
   "outputs": [
    {
     "name": "stdout",
     "output_type": "stream",
     "text": [
      "Las frutas totales compradas son: 54 frutas\n"
     ]
    }
   ],
   "source": [
    "# Inicializo una variable para llevar la cuenta total de frutas\n",
    "total_frutas = 0\n",
    "\n",
    "# Recorro el diccionario y en cada vuelta voy sumando las cantidades de frutas con el operador +=\n",
    "for i, info in compra.items():\n",
    "    total_frutas += info [\"Qty\"]\n",
    "\n",
    "print (\"Las frutas totales compradas son:\", total_frutas, \"frutas\")"
   ]
  },
  {
   "cell_type": "markdown",
   "id": "02a056b0",
   "metadata": {},
   "source": [
    "__¿Cuál es la fruta más cara? Usar loops__"
   ]
  },
  {
   "cell_type": "code",
   "execution_count": 305,
   "id": "d20a132d",
   "metadata": {},
   "outputs": [
    {
     "name": "stdout",
     "output_type": "stream",
     "text": [
      "La fruta más cara es: Ciruela\n"
     ]
    }
   ],
   "source": [
    "# compra = {'Pomes': {'Qty': 5, '€': 0.42}, 'Peres': {'Qty': 3, '€': 0.66}, 'Fresas': {'Qty': 7, '€': 1.05}, 'Piñas': {'Qty': 2, '€': 0.6}, 'Melones': {'Qty': 9, '€': 1.0}, 'Sandías': {'Qty': 8, '€': 0.3}, 'Ciruela': {'Qty': 20, '€': 1.6}}\n",
    "\n",
    "# Inicializo dos variables para llevar un seguimiento de la fruta más cara y su de precio.\n",
    "\n",
    "fruta_mas_cara = None\n",
    "precio_mas_alto = 0\n",
    "\n",
    "# Con el bucle for voy a recorrer cada tipo de fruta y sus datos asociados\n",
    "\n",
    "for i, datos in compra.items():\n",
    "    precio_fruta = datos['€']\n",
    "    # con datos['€'] estoy extrayendo el precio de cada fruta y lo almanceno en precio_fruta\n",
    "    if precio_fruta > precio_mas_alto:\n",
    "        #En cada bucle me compara el precio de esa fruta con el precio más alto registrado hasta le momento\n",
    "        precio_mas_alto = precio_fruta\n",
    "        # Si ese precio de la fruta de esa vuelta supera el precio más alto hasta el momento, \n",
    "        # actualiza el precio_mas_alto con el nuevo precio, y fruta_mas_cara con el nombre de la de esa vuelta.\n",
    "        fruta_mas_cara = i\n",
    "\n",
    "print(\"La fruta más cara es:\", fruta_mas_cara)"
   ]
  },
  {
   "cell_type": "code",
   "execution_count": null,
   "id": "05c0455d",
   "metadata": {},
   "outputs": [],
   "source": []
  }
 ],
 "metadata": {
  "kernelspec": {
   "display_name": "Python 3 (ipykernel)",
   "language": "python",
   "name": "python3"
  },
  "language_info": {
   "codemirror_mode": {
    "name": "ipython",
    "version": 3
   },
   "file_extension": ".py",
   "mimetype": "text/x-python",
   "name": "python",
   "nbconvert_exporter": "python",
   "pygments_lexer": "ipython3",
   "version": "3.10.6"
  }
 },
 "nbformat": 4,
 "nbformat_minor": 5
}
